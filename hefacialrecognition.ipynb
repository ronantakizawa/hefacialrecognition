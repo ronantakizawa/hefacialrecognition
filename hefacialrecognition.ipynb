{
  "cells": [
    {
      "cell_type": "code",
      "source": [
        "pip install tenseal"
      ],
      "metadata": {
        "colab": {
          "base_uri": "https://localhost:8080/"
        },
        "id": "UqEdztlV8KvH",
        "outputId": "4561cba4-a8c8-4598-d1ac-ad481ddf721e"
      },
      "id": "UqEdztlV8KvH",
      "execution_count": null,
      "outputs": [
        {
          "output_type": "stream",
          "name": "stdout",
          "text": [
            "Collecting tenseal\n",
            "  Downloading tenseal-0.3.14-cp310-cp310-manylinux_2_17_x86_64.manylinux2014_x86_64.whl (4.9 MB)\n",
            "\u001b[2K     \u001b[90m━━━━━━━━━━━━━━━━━━━━━━━━━━━━━━━━━━━━━━━━\u001b[0m \u001b[32m4.9/4.9 MB\u001b[0m \u001b[31m17.4 MB/s\u001b[0m eta \u001b[36m0:00:00\u001b[0m\n",
            "\u001b[?25hInstalling collected packages: tenseal\n",
            "Successfully installed tenseal-0.3.14\n"
          ]
        }
      ]
    },
    {
      "cell_type": "code",
      "source": [
        "!pip install deepface"
      ],
      "metadata": {
        "colab": {
          "base_uri": "https://localhost:8080/"
        },
        "id": "fnbdX3ts8MvW",
        "outputId": "596f10f0-4f6d-44ed-8c81-625d0d98975f"
      },
      "id": "fnbdX3ts8MvW",
      "execution_count": null,
      "outputs": [
        {
          "output_type": "stream",
          "name": "stdout",
          "text": [
            "Requirement already satisfied: deepface in /usr/local/lib/python3.10/dist-packages (0.0.89)\n",
            "Requirement already satisfied: numpy>=1.14.0 in /usr/local/lib/python3.10/dist-packages (from deepface) (1.25.2)\n",
            "Requirement already satisfied: pandas>=0.23.4 in /usr/local/lib/python3.10/dist-packages (from deepface) (2.0.3)\n",
            "Requirement already satisfied: gdown>=3.10.1 in /usr/local/lib/python3.10/dist-packages (from deepface) (4.7.3)\n",
            "Requirement already satisfied: tqdm>=4.30.0 in /usr/local/lib/python3.10/dist-packages (from deepface) (4.66.2)\n",
            "Requirement already satisfied: Pillow>=5.2.0 in /usr/local/lib/python3.10/dist-packages (from deepface) (9.4.0)\n",
            "Requirement already satisfied: opencv-python>=4.5.5.64 in /usr/local/lib/python3.10/dist-packages (from deepface) (4.8.0.76)\n",
            "Requirement already satisfied: tensorflow>=1.9.0 in /usr/local/lib/python3.10/dist-packages (from deepface) (2.15.0)\n",
            "Requirement already satisfied: keras>=2.2.0 in /usr/local/lib/python3.10/dist-packages (from deepface) (2.15.0)\n",
            "Requirement already satisfied: Flask>=1.1.2 in /usr/local/lib/python3.10/dist-packages (from deepface) (2.2.5)\n",
            "Requirement already satisfied: mtcnn>=0.1.0 in /usr/local/lib/python3.10/dist-packages (from deepface) (0.1.1)\n",
            "Requirement already satisfied: retina-face>=0.0.1 in /usr/local/lib/python3.10/dist-packages (from deepface) (0.0.16)\n",
            "Requirement already satisfied: fire>=0.4.0 in /usr/local/lib/python3.10/dist-packages (from deepface) (0.6.0)\n",
            "Requirement already satisfied: gunicorn>=20.1.0 in /usr/local/lib/python3.10/dist-packages (from deepface) (21.2.0)\n",
            "Requirement already satisfied: six in /usr/local/lib/python3.10/dist-packages (from fire>=0.4.0->deepface) (1.16.0)\n",
            "Requirement already satisfied: termcolor in /usr/local/lib/python3.10/dist-packages (from fire>=0.4.0->deepface) (2.4.0)\n",
            "Requirement already satisfied: Werkzeug>=2.2.2 in /usr/local/lib/python3.10/dist-packages (from Flask>=1.1.2->deepface) (3.0.2)\n",
            "Requirement already satisfied: Jinja2>=3.0 in /usr/local/lib/python3.10/dist-packages (from Flask>=1.1.2->deepface) (3.1.3)\n",
            "Requirement already satisfied: itsdangerous>=2.0 in /usr/local/lib/python3.10/dist-packages (from Flask>=1.1.2->deepface) (2.1.2)\n",
            "Requirement already satisfied: click>=8.0 in /usr/local/lib/python3.10/dist-packages (from Flask>=1.1.2->deepface) (8.1.7)\n",
            "Requirement already satisfied: filelock in /usr/local/lib/python3.10/dist-packages (from gdown>=3.10.1->deepface) (3.13.3)\n",
            "Requirement already satisfied: requests[socks] in /usr/local/lib/python3.10/dist-packages (from gdown>=3.10.1->deepface) (2.31.0)\n",
            "Requirement already satisfied: beautifulsoup4 in /usr/local/lib/python3.10/dist-packages (from gdown>=3.10.1->deepface) (4.12.3)\n",
            "Requirement already satisfied: packaging in /usr/local/lib/python3.10/dist-packages (from gunicorn>=20.1.0->deepface) (24.0)\n",
            "Requirement already satisfied: python-dateutil>=2.8.2 in /usr/local/lib/python3.10/dist-packages (from pandas>=0.23.4->deepface) (2.8.2)\n",
            "Requirement already satisfied: pytz>=2020.1 in /usr/local/lib/python3.10/dist-packages (from pandas>=0.23.4->deepface) (2023.4)\n",
            "Requirement already satisfied: tzdata>=2022.1 in /usr/local/lib/python3.10/dist-packages (from pandas>=0.23.4->deepface) (2024.1)\n",
            "Requirement already satisfied: absl-py>=1.0.0 in /usr/local/lib/python3.10/dist-packages (from tensorflow>=1.9.0->deepface) (1.4.0)\n",
            "Requirement already satisfied: astunparse>=1.6.0 in /usr/local/lib/python3.10/dist-packages (from tensorflow>=1.9.0->deepface) (1.6.3)\n",
            "Requirement already satisfied: flatbuffers>=23.5.26 in /usr/local/lib/python3.10/dist-packages (from tensorflow>=1.9.0->deepface) (24.3.25)\n",
            "Requirement already satisfied: gast!=0.5.0,!=0.5.1,!=0.5.2,>=0.2.1 in /usr/local/lib/python3.10/dist-packages (from tensorflow>=1.9.0->deepface) (0.5.4)\n",
            "Requirement already satisfied: google-pasta>=0.1.1 in /usr/local/lib/python3.10/dist-packages (from tensorflow>=1.9.0->deepface) (0.2.0)\n",
            "Requirement already satisfied: h5py>=2.9.0 in /usr/local/lib/python3.10/dist-packages (from tensorflow>=1.9.0->deepface) (3.9.0)\n",
            "Requirement already satisfied: libclang>=13.0.0 in /usr/local/lib/python3.10/dist-packages (from tensorflow>=1.9.0->deepface) (18.1.1)\n",
            "Requirement already satisfied: ml-dtypes~=0.2.0 in /usr/local/lib/python3.10/dist-packages (from tensorflow>=1.9.0->deepface) (0.2.0)\n",
            "Requirement already satisfied: opt-einsum>=2.3.2 in /usr/local/lib/python3.10/dist-packages (from tensorflow>=1.9.0->deepface) (3.3.0)\n",
            "Requirement already satisfied: protobuf!=4.21.0,!=4.21.1,!=4.21.2,!=4.21.3,!=4.21.4,!=4.21.5,<5.0.0dev,>=3.20.3 in /usr/local/lib/python3.10/dist-packages (from tensorflow>=1.9.0->deepface) (3.20.3)\n",
            "Requirement already satisfied: setuptools in /usr/local/lib/python3.10/dist-packages (from tensorflow>=1.9.0->deepface) (67.7.2)\n",
            "Requirement already satisfied: typing-extensions>=3.6.6 in /usr/local/lib/python3.10/dist-packages (from tensorflow>=1.9.0->deepface) (4.10.0)\n",
            "Requirement already satisfied: wrapt<1.15,>=1.11.0 in /usr/local/lib/python3.10/dist-packages (from tensorflow>=1.9.0->deepface) (1.14.1)\n",
            "Requirement already satisfied: tensorflow-io-gcs-filesystem>=0.23.1 in /usr/local/lib/python3.10/dist-packages (from tensorflow>=1.9.0->deepface) (0.36.0)\n",
            "Requirement already satisfied: grpcio<2.0,>=1.24.3 in /usr/local/lib/python3.10/dist-packages (from tensorflow>=1.9.0->deepface) (1.62.1)\n",
            "Requirement already satisfied: tensorboard<2.16,>=2.15 in /usr/local/lib/python3.10/dist-packages (from tensorflow>=1.9.0->deepface) (2.15.2)\n",
            "Requirement already satisfied: tensorflow-estimator<2.16,>=2.15.0 in /usr/local/lib/python3.10/dist-packages (from tensorflow>=1.9.0->deepface) (2.15.0)\n",
            "Requirement already satisfied: wheel<1.0,>=0.23.0 in /usr/local/lib/python3.10/dist-packages (from astunparse>=1.6.0->tensorflow>=1.9.0->deepface) (0.43.0)\n",
            "Requirement already satisfied: MarkupSafe>=2.0 in /usr/local/lib/python3.10/dist-packages (from Jinja2>=3.0->Flask>=1.1.2->deepface) (2.1.5)\n",
            "Requirement already satisfied: google-auth<3,>=1.6.3 in /usr/local/lib/python3.10/dist-packages (from tensorboard<2.16,>=2.15->tensorflow>=1.9.0->deepface) (2.27.0)\n",
            "Requirement already satisfied: google-auth-oauthlib<2,>=0.5 in /usr/local/lib/python3.10/dist-packages (from tensorboard<2.16,>=2.15->tensorflow>=1.9.0->deepface) (1.2.0)\n",
            "Requirement already satisfied: markdown>=2.6.8 in /usr/local/lib/python3.10/dist-packages (from tensorboard<2.16,>=2.15->tensorflow>=1.9.0->deepface) (3.6)\n",
            "Requirement already satisfied: tensorboard-data-server<0.8.0,>=0.7.0 in /usr/local/lib/python3.10/dist-packages (from tensorboard<2.16,>=2.15->tensorflow>=1.9.0->deepface) (0.7.2)\n",
            "Requirement already satisfied: soupsieve>1.2 in /usr/local/lib/python3.10/dist-packages (from beautifulsoup4->gdown>=3.10.1->deepface) (2.5)\n",
            "Requirement already satisfied: charset-normalizer<4,>=2 in /usr/local/lib/python3.10/dist-packages (from requests[socks]->gdown>=3.10.1->deepface) (3.3.2)\n",
            "Requirement already satisfied: idna<4,>=2.5 in /usr/local/lib/python3.10/dist-packages (from requests[socks]->gdown>=3.10.1->deepface) (3.6)\n",
            "Requirement already satisfied: urllib3<3,>=1.21.1 in /usr/local/lib/python3.10/dist-packages (from requests[socks]->gdown>=3.10.1->deepface) (2.0.7)\n",
            "Requirement already satisfied: certifi>=2017.4.17 in /usr/local/lib/python3.10/dist-packages (from requests[socks]->gdown>=3.10.1->deepface) (2024.2.2)\n",
            "Requirement already satisfied: PySocks!=1.5.7,>=1.5.6 in /usr/local/lib/python3.10/dist-packages (from requests[socks]->gdown>=3.10.1->deepface) (1.7.1)\n",
            "Requirement already satisfied: cachetools<6.0,>=2.0.0 in /usr/local/lib/python3.10/dist-packages (from google-auth<3,>=1.6.3->tensorboard<2.16,>=2.15->tensorflow>=1.9.0->deepface) (5.3.3)\n",
            "Requirement already satisfied: pyasn1-modules>=0.2.1 in /usr/local/lib/python3.10/dist-packages (from google-auth<3,>=1.6.3->tensorboard<2.16,>=2.15->tensorflow>=1.9.0->deepface) (0.4.0)\n",
            "Requirement already satisfied: rsa<5,>=3.1.4 in /usr/local/lib/python3.10/dist-packages (from google-auth<3,>=1.6.3->tensorboard<2.16,>=2.15->tensorflow>=1.9.0->deepface) (4.9)\n",
            "Requirement already satisfied: requests-oauthlib>=0.7.0 in /usr/local/lib/python3.10/dist-packages (from google-auth-oauthlib<2,>=0.5->tensorboard<2.16,>=2.15->tensorflow>=1.9.0->deepface) (1.3.1)\n",
            "Requirement already satisfied: pyasn1<0.7.0,>=0.4.6 in /usr/local/lib/python3.10/dist-packages (from pyasn1-modules>=0.2.1->google-auth<3,>=1.6.3->tensorboard<2.16,>=2.15->tensorflow>=1.9.0->deepface) (0.6.0)\n",
            "Requirement already satisfied: oauthlib>=3.0.0 in /usr/local/lib/python3.10/dist-packages (from requests-oauthlib>=0.7.0->google-auth-oauthlib<2,>=0.5->tensorboard<2.16,>=2.15->tensorflow>=1.9.0->deepface) (3.2.2)\n"
          ]
        }
      ]
    },
    {
      "cell_type": "code",
      "execution_count": null,
      "id": "blank-finding",
      "metadata": {
        "id": "blank-finding"
      },
      "outputs": [],
      "source": [
        "import tenseal as ts # pip install tenseal\n",
        "from deepface import DeepFace #!pip install deepface\n",
        "import base64"
      ]
    },
    {
      "cell_type": "markdown",
      "id": "activated-steering",
      "metadata": {
        "id": "activated-steering"
      },
      "source": [
        "# Requirements"
      ]
    },
    {
      "cell_type": "markdown",
      "id": "assured-coating",
      "metadata": {
        "id": "assured-coating"
      },
      "source": [
        "# Finding embeddings\n",
        "\n",
        "We are going to find vector representations of facial images. This will be done in the client side."
      ]
    },
    {
      "cell_type": "code",
      "execution_count": null,
      "id": "invalid-scheme",
      "metadata": {
        "id": "invalid-scheme",
        "colab": {
          "base_uri": "https://localhost:8080/",
          "height": 38
        },
        "outputId": "600c1687-9ce8-4160-9a60-bcf821dd9186"
      },
      "outputs": [
        {
          "output_type": "display_data",
          "data": {
            "text/plain": [
              "<IPython.core.display.HTML object>"
            ],
            "text/html": [
              "\n",
              "     <input type=\"file\" id=\"files-4d5f8682-b3c0-4e03-ad70-11ceb5e2ec19\" name=\"files[]\" multiple disabled\n",
              "        style=\"border:none\" />\n",
              "     <output id=\"result-4d5f8682-b3c0-4e03-ad70-11ceb5e2ec19\">\n",
              "      Upload widget is only available when the cell has been executed in the\n",
              "      current browser session. Please rerun this cell to enable.\n",
              "      </output>\n",
              "      <script>// Copyright 2017 Google LLC\n",
              "//\n",
              "// Licensed under the Apache License, Version 2.0 (the \"License\");\n",
              "// you may not use this file except in compliance with the License.\n",
              "// You may obtain a copy of the License at\n",
              "//\n",
              "//      http://www.apache.org/licenses/LICENSE-2.0\n",
              "//\n",
              "// Unless required by applicable law or agreed to in writing, software\n",
              "// distributed under the License is distributed on an \"AS IS\" BASIS,\n",
              "// WITHOUT WARRANTIES OR CONDITIONS OF ANY KIND, either express or implied.\n",
              "// See the License for the specific language governing permissions and\n",
              "// limitations under the License.\n",
              "\n",
              "/**\n",
              " * @fileoverview Helpers for google.colab Python module.\n",
              " */\n",
              "(function(scope) {\n",
              "function span(text, styleAttributes = {}) {\n",
              "  const element = document.createElement('span');\n",
              "  element.textContent = text;\n",
              "  for (const key of Object.keys(styleAttributes)) {\n",
              "    element.style[key] = styleAttributes[key];\n",
              "  }\n",
              "  return element;\n",
              "}\n",
              "\n",
              "// Max number of bytes which will be uploaded at a time.\n",
              "const MAX_PAYLOAD_SIZE = 100 * 1024;\n",
              "\n",
              "function _uploadFiles(inputId, outputId) {\n",
              "  const steps = uploadFilesStep(inputId, outputId);\n",
              "  const outputElement = document.getElementById(outputId);\n",
              "  // Cache steps on the outputElement to make it available for the next call\n",
              "  // to uploadFilesContinue from Python.\n",
              "  outputElement.steps = steps;\n",
              "\n",
              "  return _uploadFilesContinue(outputId);\n",
              "}\n",
              "\n",
              "// This is roughly an async generator (not supported in the browser yet),\n",
              "// where there are multiple asynchronous steps and the Python side is going\n",
              "// to poll for completion of each step.\n",
              "// This uses a Promise to block the python side on completion of each step,\n",
              "// then passes the result of the previous step as the input to the next step.\n",
              "function _uploadFilesContinue(outputId) {\n",
              "  const outputElement = document.getElementById(outputId);\n",
              "  const steps = outputElement.steps;\n",
              "\n",
              "  const next = steps.next(outputElement.lastPromiseValue);\n",
              "  return Promise.resolve(next.value.promise).then((value) => {\n",
              "    // Cache the last promise value to make it available to the next\n",
              "    // step of the generator.\n",
              "    outputElement.lastPromiseValue = value;\n",
              "    return next.value.response;\n",
              "  });\n",
              "}\n",
              "\n",
              "/**\n",
              " * Generator function which is called between each async step of the upload\n",
              " * process.\n",
              " * @param {string} inputId Element ID of the input file picker element.\n",
              " * @param {string} outputId Element ID of the output display.\n",
              " * @return {!Iterable<!Object>} Iterable of next steps.\n",
              " */\n",
              "function* uploadFilesStep(inputId, outputId) {\n",
              "  const inputElement = document.getElementById(inputId);\n",
              "  inputElement.disabled = false;\n",
              "\n",
              "  const outputElement = document.getElementById(outputId);\n",
              "  outputElement.innerHTML = '';\n",
              "\n",
              "  const pickedPromise = new Promise((resolve) => {\n",
              "    inputElement.addEventListener('change', (e) => {\n",
              "      resolve(e.target.files);\n",
              "    });\n",
              "  });\n",
              "\n",
              "  const cancel = document.createElement('button');\n",
              "  inputElement.parentElement.appendChild(cancel);\n",
              "  cancel.textContent = 'Cancel upload';\n",
              "  const cancelPromise = new Promise((resolve) => {\n",
              "    cancel.onclick = () => {\n",
              "      resolve(null);\n",
              "    };\n",
              "  });\n",
              "\n",
              "  // Wait for the user to pick the files.\n",
              "  const files = yield {\n",
              "    promise: Promise.race([pickedPromise, cancelPromise]),\n",
              "    response: {\n",
              "      action: 'starting',\n",
              "    }\n",
              "  };\n",
              "\n",
              "  cancel.remove();\n",
              "\n",
              "  // Disable the input element since further picks are not allowed.\n",
              "  inputElement.disabled = true;\n",
              "\n",
              "  if (!files) {\n",
              "    return {\n",
              "      response: {\n",
              "        action: 'complete',\n",
              "      }\n",
              "    };\n",
              "  }\n",
              "\n",
              "  for (const file of files) {\n",
              "    const li = document.createElement('li');\n",
              "    li.append(span(file.name, {fontWeight: 'bold'}));\n",
              "    li.append(span(\n",
              "        `(${file.type || 'n/a'}) - ${file.size} bytes, ` +\n",
              "        `last modified: ${\n",
              "            file.lastModifiedDate ? file.lastModifiedDate.toLocaleDateString() :\n",
              "                                    'n/a'} - `));\n",
              "    const percent = span('0% done');\n",
              "    li.appendChild(percent);\n",
              "\n",
              "    outputElement.appendChild(li);\n",
              "\n",
              "    const fileDataPromise = new Promise((resolve) => {\n",
              "      const reader = new FileReader();\n",
              "      reader.onload = (e) => {\n",
              "        resolve(e.target.result);\n",
              "      };\n",
              "      reader.readAsArrayBuffer(file);\n",
              "    });\n",
              "    // Wait for the data to be ready.\n",
              "    let fileData = yield {\n",
              "      promise: fileDataPromise,\n",
              "      response: {\n",
              "        action: 'continue',\n",
              "      }\n",
              "    };\n",
              "\n",
              "    // Use a chunked sending to avoid message size limits. See b/62115660.\n",
              "    let position = 0;\n",
              "    do {\n",
              "      const length = Math.min(fileData.byteLength - position, MAX_PAYLOAD_SIZE);\n",
              "      const chunk = new Uint8Array(fileData, position, length);\n",
              "      position += length;\n",
              "\n",
              "      const base64 = btoa(String.fromCharCode.apply(null, chunk));\n",
              "      yield {\n",
              "        response: {\n",
              "          action: 'append',\n",
              "          file: file.name,\n",
              "          data: base64,\n",
              "        },\n",
              "      };\n",
              "\n",
              "      let percentDone = fileData.byteLength === 0 ?\n",
              "          100 :\n",
              "          Math.round((position / fileData.byteLength) * 100);\n",
              "      percent.textContent = `${percentDone}% done`;\n",
              "\n",
              "    } while (position < fileData.byteLength);\n",
              "  }\n",
              "\n",
              "  // All done.\n",
              "  yield {\n",
              "    response: {\n",
              "      action: 'complete',\n",
              "    }\n",
              "  };\n",
              "}\n",
              "\n",
              "scope.google = scope.google || {};\n",
              "scope.google.colab = scope.google.colab || {};\n",
              "scope.google.colab._files = {\n",
              "  _uploadFiles,\n",
              "  _uploadFilesContinue,\n",
              "};\n",
              "})(self);\n",
              "</script> "
            ]
          },
          "metadata": {}
        }
      ],
      "source": [
        "from google.colab import files\n",
        "uploaded = files.upload()\n",
        "\n",
        "for fn in uploaded.keys():\n",
        "  print('User uploaded file \"{name}\" with length {length} bytes'.format(\n",
        "      name=fn, length=len(uploaded[fn])))"
      ]
    },
    {
      "cell_type": "code",
      "execution_count": null,
      "id": "coastal-oxygen",
      "metadata": {
        "colab": {
          "base_uri": "https://localhost:8080/"
        },
        "id": "coastal-oxygen",
        "outputId": "c687338c-e0c4-4f01-dd83-1f9ed1acf607"
      },
      "outputs": [
        {
          "output_type": "stream",
          "name": "stdout",
          "text": [
            "[{'embedding': [0.859748125076294, 0.9605176448822021, 1.3458293676376343, -1.5352717638015747, 0.4913597106933594, -0.48713383078575134, 0.8994464874267578, 0.780159056186676, 1.8225899934768677, 0.9173871874809265, -0.9213154911994934, 0.41336697340011597, -1.013060450553894, -0.6539306640625, -1.8478519916534424, 0.431438148021698, -1.550025224685669, -0.35439908504486084, 1.0887333154678345, -0.35816821455955505, 1.7201800346374512, -0.2550181746482849, -0.7676998376846313, -1.3535757064819336, -2.4413671493530273, 2.2766613960266113, -0.4840104281902313, -0.8013039231300354, -0.7300171852111816, 0.6920195817947388, -0.7333544492721558, 1.3712615966796875, 0.8122579455375671, -1.8422991037368774, 0.2873917520046234, -0.07752888649702072, -1.4163769483566284, 0.437186062335968, 1.4368438720703125, 0.09004097431898117, -0.6153519749641418, 0.4684123396873474, -1.3318177461624146, -0.4740756154060364, 0.05478878319263458, 1.7802492380142212, -2.0101234912872314, 1.3570033311843872, -0.10880697518587112, 0.07487809658050537, 1.3751440048217773, 0.9047859907150269, -0.39206692576408386, -0.925264835357666, 1.402425765991211, -0.6867281198501587, -0.578986644744873, -1.0105856657028198, 0.6903039216995239, 1.8104543685913086, -0.09592489898204803, 0.07756966352462769, -1.916577935218811, -0.7845227718353271, 1.4541809558868408, -0.41441845893859863, -0.024831362068653107, 0.00938182882964611, 1.3141635656356812, 1.707669973373413, -0.4083440899848938, 0.4033447802066803, -0.04765942320227623, -0.4062102437019348, 0.8278132081031799, -0.39728689193725586, -1.557377576828003, -0.1757560819387436, 0.09290233999490738, -1.1718820333480835, 0.5501940846443176, -1.2358375787734985, 1.1808549165725708, -2.314824342727661, -1.622201681137085, -1.0258082151412964, -1.5648460388183594, -0.5018969774246216, 0.4947141110897064, -0.01148097962141037, -0.6866625547409058, 1.952666997909546, -0.36632850766181946, -0.46105775237083435, 0.43923425674438477, 0.1843012571334839, -0.021492885425686836, 0.7944061160087585, -0.6205347180366516, -0.6508733630180359, 0.8286799192428589, -1.3631469011306763, -2.4959592819213867, -0.9448521137237549, -0.8926471471786499, -0.501575231552124, 1.2575734853744507, 0.4206761121749878, -0.20154322683811188, 1.339468240737915, 0.37581866979599, -1.1153428554534912, -1.6323251724243164, 0.3884812295436859, 0.5460490584373474, 1.6939879655838013, 0.40317589044570923, -0.20961183309555054, 0.41735339164733887, -0.59007728099823, 0.7729305624961853, -0.42084169387817383, -1.425628900527954, 0.11443819105625153, 0.0019193552434444427, -1.4448989629745483, -0.6509689688682556, -0.44913867115974426], 'facial_area': {'x': 345, 'y': 211, 'w': 769, 'h': 769, 'left_eye': (571, 517), 'right_eye': (853, 523)}, 'face_confidence': 0.9}]\n",
            "[{'embedding': [0.09691713005304337, 0.35439303517341614, 0.7177935838699341, 0.24314990639686584, 0.3401525020599365, -0.04255448281764984, 0.8393797278404236, 1.698604941368103, 1.3739067316055298, 1.4471362829208374, -1.3757280111312866, -0.5002102851867676, -0.6354193687438965, 0.3672766387462616, -0.8963953256607056, -0.5454778075218201, -1.9023460149765015, -0.4940253496170044, -0.696191132068634, -0.6899706125259399, 0.7604765892028809, 0.16149736940860748, -1.1851636171340942, 0.02287106215953827, -2.4048080444335938, 1.9669057130813599, -0.31254586577415466, -1.472048044204712, 0.8453688025474548, 0.62571781873703, 0.3302816152572632, 1.3258557319641113, 0.4514657258987427, -1.6273387670516968, 1.3821923732757568, -0.6480209231376648, -1.9184812307357788, 0.6951562762260437, 1.0231819152832031, 0.9457215070724487, 0.4152683913707733, 0.576467752456665, -0.1573334038257599, -0.48759934306144714, 0.16166073083877563, 0.4469982981681824, -0.33409637212753296, 1.8736722469329834, -0.010945066809654236, -0.14443980157375336, 1.5095075368881226, 1.9830310344696045, 0.034071359783411026, -0.1378203183412552, 0.6120485067367554, -0.38163381814956665, -0.30733418464660645, -0.9768121838569641, -0.5963714122772217, 1.4955995082855225, -0.4210330843925476, -0.47689688205718994, -2.579874038696289, -0.6197856664657593, 1.2402610778808594, -0.770822286605835, -0.17914023995399475, 1.1840312480926514, 0.3782586455345154, 0.41918814182281494, -0.24126330018043518, 0.29544639587402344, 0.9341793656349182, -0.20004256069660187, 0.8507587909698486, -0.9872153401374817, -0.6905677318572998, 0.04179772362112999, -1.124478816986084, -0.8076809644699097, 0.342694491147995, -1.42282235622406, 1.2907156944274902, -2.284594774246216, -1.9363311529159546, -0.658033549785614, -1.089194893836975, -0.4778794050216675, 1.2985987663269043, -0.6464249491691589, -1.5978819131851196, 2.4437384605407715, -0.47714266180992126, -0.30612948536872864, 1.0869590044021606, 1.0654349327087402, -0.26570165157318115, 0.7958193421363831, 0.15494152903556824, -0.8074988722801208, 0.47162097692489624, -0.13802652060985565, -3.2238783836364746, -0.5585193634033203, 0.001023218035697937, -0.6522070169448853, 1.6238293647766113, -0.14289768040180206, 1.1451712846755981, 0.9300916194915771, -0.1422763615846634, -0.3263719081878662, -1.2243189811706543, -0.6595264673233032, -0.5877890586853027, 1.2128541469573975, 0.3349025845527649, -0.4215865731239319, -0.02707318216562271, -1.161820411682129, -0.09464800357818604, -1.0779228210449219, -0.9009437561035156, -0.029325498268008232, -0.20927740633487701, 0.23851528763771057, -0.8378233909606934, 0.3305383324623108], 'facial_area': {'x': 516, 'y': 192, 'w': 512, 'h': 512, 'left_eye': (666, 390), 'right_eye': (857, 389)}, 'face_confidence': 0.9}]\n"
          ]
        }
      ],
      "source": [
        "img1_embedding = DeepFace.represent(\"img1.jpg\", model_name = 'Facenet')\n",
        "img2_embedding = DeepFace.represent(\"img2.jpg\", model_name = 'Facenet')\n",
        "print(img1_embedding)\n",
        "print(img2_embedding)"
      ]
    },
    {
      "cell_type": "markdown",
      "id": "considered-commitment",
      "metadata": {
        "id": "considered-commitment"
      },
      "source": [
        "# Commons"
      ]
    },
    {
      "cell_type": "markdown",
      "id": "understanding-fight",
      "metadata": {
        "id": "understanding-fight"
      },
      "source": [
        "# Initialization\n",
        "\n",
        "We are going to generate secret - public key pair in this stage. This will be done in the client side."
      ]
    },
    {
      "cell_type": "code",
      "execution_count": null,
      "id": "manual-endorsement",
      "metadata": {
        "id": "manual-endorsement"
      },
      "outputs": [],
      "source": [
        "context = ts.context(\n",
        "            ts.SCHEME_TYPE.CKKS,\n",
        "            poly_modulus_degree = 8192,\n",
        "            coeff_mod_bit_sizes = [60, 40, 40, 60]\n",
        "          )\n",
        "\n",
        "context.generate_galois_keys()\n",
        "context.global_scale = 2**40"
      ]
    },
    {
      "cell_type": "code",
      "execution_count": null,
      "id": "mental-mining",
      "metadata": {
        "id": "mental-mining"
      },
      "outputs": [],
      "source": [
        "secret_context = context.serialize(save_secret_key = True)"
      ]
    },
    {
      "cell_type": "code",
      "execution_count": null,
      "id": "magnetic-relevance",
      "metadata": {
        "id": "magnetic-relevance"
      },
      "outputs": [],
      "source": [
        "context.make_context_public() #drop the secret_key from the context\n",
        "public_context = context.serialize()"
      ]
    },
    {
      "cell_type": "markdown",
      "id": "exempt-rochester",
      "metadata": {
        "id": "exempt-rochester"
      },
      "source": [
        "# Encryption\n",
        "\n",
        "We are going to apply homomorphic encryption to facial embeddings. This will be done in the client side.\n",
        "\n",
        "Then, homomorphic encrypted facial embeddings will be stored in the cloud."
      ]
    },
    {
      "cell_type": "code",
      "execution_count": null,
      "id": "stretch-press",
      "metadata": {
        "id": "stretch-press",
        "colab": {
          "base_uri": "https://localhost:8080/"
        },
        "outputId": "805d1084-71f6-407c-b015-a157f63a2068"
      },
      "outputs": [
        {
          "output_type": "stream",
          "name": "stdout",
          "text": [
            "<tenseal.enc_context.Context object at 0x7a65c116b5b0>\n",
            "[{'embedding': [0.859748125076294, 0.9605176448822021, 1.3458293676376343, -1.5352717638015747, 0.4913597106933594, -0.48713383078575134, 0.8994464874267578, 0.780159056186676, 1.8225899934768677, 0.9173871874809265, -0.9213154911994934, 0.41336697340011597, -1.013060450553894, -0.6539306640625, -1.8478519916534424, 0.431438148021698, -1.550025224685669, -0.35439908504486084, 1.0887333154678345, -0.35816821455955505, 1.7201800346374512, -0.2550181746482849, -0.7676998376846313, -1.3535757064819336, -2.4413671493530273, 2.2766613960266113, -0.4840104281902313, -0.8013039231300354, -0.7300171852111816, 0.6920195817947388, -0.7333544492721558, 1.3712615966796875, 0.8122579455375671, -1.8422991037368774, 0.2873917520046234, -0.07752888649702072, -1.4163769483566284, 0.437186062335968, 1.4368438720703125, 0.09004097431898117, -0.6153519749641418, 0.4684123396873474, -1.3318177461624146, -0.4740756154060364, 0.05478878319263458, 1.7802492380142212, -2.0101234912872314, 1.3570033311843872, -0.10880697518587112, 0.07487809658050537, 1.3751440048217773, 0.9047859907150269, -0.39206692576408386, -0.925264835357666, 1.402425765991211, -0.6867281198501587, -0.578986644744873, -1.0105856657028198, 0.6903039216995239, 1.8104543685913086, -0.09592489898204803, 0.07756966352462769, -1.916577935218811, -0.7845227718353271, 1.4541809558868408, -0.41441845893859863, -0.024831362068653107, 0.00938182882964611, 1.3141635656356812, 1.707669973373413, -0.4083440899848938, 0.4033447802066803, -0.04765942320227623, -0.4062102437019348, 0.8278132081031799, -0.39728689193725586, -1.557377576828003, -0.1757560819387436, 0.09290233999490738, -1.1718820333480835, 0.5501940846443176, -1.2358375787734985, 1.1808549165725708, -2.314824342727661, -1.622201681137085, -1.0258082151412964, -1.5648460388183594, -0.5018969774246216, 0.4947141110897064, -0.01148097962141037, -0.6866625547409058, 1.952666997909546, -0.36632850766181946, -0.46105775237083435, 0.43923425674438477, 0.1843012571334839, -0.021492885425686836, 0.7944061160087585, -0.6205347180366516, -0.6508733630180359, 0.8286799192428589, -1.3631469011306763, -2.4959592819213867, -0.9448521137237549, -0.8926471471786499, -0.501575231552124, 1.2575734853744507, 0.4206761121749878, -0.20154322683811188, 1.339468240737915, 0.37581866979599, -1.1153428554534912, -1.6323251724243164, 0.3884812295436859, 0.5460490584373474, 1.6939879655838013, 0.40317589044570923, -0.20961183309555054, 0.41735339164733887, -0.59007728099823, 0.7729305624961853, -0.42084169387817383, -1.425628900527954, 0.11443819105625153, 0.0019193552434444427, -1.4448989629745483, -0.6509689688682556, -0.44913867115974426], 'facial_area': {'x': 345, 'y': 211, 'w': 769, 'h': 769, 'left_eye': (571, 517), 'right_eye': (853, 523)}, 'face_confidence': 0.9}]\n"
          ]
        }
      ],
      "source": [
        "context = ts.context_from(secret_context)\n",
        "print(context)\n",
        "print(img1_embedding)"
      ]
    },
    {
      "cell_type": "code",
      "execution_count": null,
      "id": "joined-slovenia",
      "metadata": {
        "id": "joined-slovenia",
        "colab": {
          "base_uri": "https://localhost:8080/"
        },
        "outputId": "b92323c7-eb4d-4a7e-f365-68d9edce835c"
      },
      "outputs": [
        {
          "output_type": "stream",
          "name": "stdout",
          "text": [
            "<tenseal.tensors.ckksvector.CKKSVector object at 0x7a65c0286470>\n",
            "<tenseal.tensors.ckksvector.CKKSVector object at 0x7a65c0285150>\n"
          ]
        }
      ],
      "source": [
        "enc_v1 = ts.ckks_vector(context, img1_embedding[0]['embedding'])\n",
        "enc_v2 = ts.ckks_vector(context, img2_embedding[0]['embedding'])\n",
        "print(enc_v1)\n",
        "print(enc_v2)"
      ]
    },
    {
      "cell_type": "markdown",
      "id": "informational-measure",
      "metadata": {
        "id": "informational-measure"
      },
      "source": [
        "# Calculations\n",
        "\n",
        "Once homomorphic encrypted facial embeddings stored in the cloud, we are able to make calculations on encrypted data.\n",
        "\n",
        "Notice that we just have public key here and we don't have secret key."
      ]
    },
    {
      "cell_type": "code",
      "execution_count": null,
      "id": "built-configuration",
      "metadata": {
        "id": "built-configuration"
      },
      "outputs": [],
      "source": [
        "euclidean_squared = enc_v1 - enc_v2\n",
        "euclidean_squared = euclidean_squared.dot(euclidean_squared)"
      ]
    },
    {
      "cell_type": "code",
      "execution_count": null,
      "id": "inside-rendering",
      "metadata": {
        "id": "inside-rendering"
      },
      "outputs": [],
      "source": [
        "#we must not decrypt the homomorphic encrypted euclidean squared value in this stage\n",
        "#because we don't have the secret key. check this operation. it should throw an exception!\n",
        "\n",
        "try:\n",
        "    euclidean_squared.decrypt()\n",
        "except Exception as err:\n",
        "    print(\"Exception: \", str(err))"
      ]
    },
    {
      "cell_type": "markdown",
      "id": "compatible-handle",
      "metadata": {
        "id": "compatible-handle"
      },
      "source": [
        "# Decryption\n",
        "\n",
        "Once homomorphic encrypted euclidean squared value found in the cloud, we are going to retrieve it to the client side.\n",
        "\n",
        "Client can decrypt it because we have the secret key in the client side."
      ]
    },
    {
      "cell_type": "code",
      "execution_count": null,
      "id": "phantom-impression",
      "metadata": {
        "id": "phantom-impression"
      },
      "outputs": [],
      "source": [
        "euclidean_squared_plain = euclidean_squared.decrypt()[0]"
      ]
    },
    {
      "cell_type": "code",
      "execution_count": null,
      "id": "eleven-psychiatry",
      "metadata": {
        "id": "eleven-psychiatry",
        "outputId": "45bf6b63-215d-4ee5-f62c-137e3350a84a",
        "colab": {
          "base_uri": "https://localhost:8080/"
        }
      },
      "outputs": [
        {
          "output_type": "execute_result",
          "data": {
            "text/plain": [
              "63.97125405785755"
            ]
          },
          "metadata": {},
          "execution_count": 17
        }
      ],
      "source": [
        "euclidean_squared_plain"
      ]
    },
    {
      "cell_type": "code",
      "execution_count": null,
      "id": "changed-floor",
      "metadata": {
        "id": "changed-floor",
        "outputId": "7dc4a810-5180-4eed-b415-0839b3dcc4d5",
        "colab": {
          "base_uri": "https://localhost:8080/"
        }
      },
      "outputs": [
        {
          "output_type": "stream",
          "name": "stdout",
          "text": [
            "they are same person\n"
          ]
        }
      ],
      "source": [
        "if euclidean_squared_plain < 100:\n",
        "    print(\"they are same person\")\n",
        "else:\n",
        "    print(\"they are different persons\")"
      ]
    }
  ],
  "metadata": {
    "kernelspec": {
      "display_name": "Python 3",
      "language": "python",
      "name": "python3"
    },
    "language_info": {
      "codemirror_mode": {
        "name": "ipython",
        "version": 3
      },
      "file_extension": ".py",
      "mimetype": "text/x-python",
      "name": "python",
      "nbconvert_exporter": "python",
      "pygments_lexer": "ipython3",
      "version": "3.8.5"
    },
    "colab": {
      "provenance": []
    }
  },
  "nbformat": 4,
  "nbformat_minor": 5
}